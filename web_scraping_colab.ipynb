{
 "cells": [
  {
   "cell_type": "markdown",
   "metadata": {},
   "source": [
    "# Web Scraping Classification Training in Colab\n",
    "\n",
    "This notebook fine-tunes a BERT model for classifying web pages as useful for scraping or not."
   ]
  },
  {
   "cell_type": "code",
   "execution_count": null,
   "metadata": {},
   "outputs": [],
   "source": [
    "# Install dependencies\n",
    "!pip install transformers datasets torch pandas"
   ]
  },
  {
   "cell_type": "code",
   "execution_count": null,
   "metadata": {},
   "outputs": [],
   "source": [
    "import torch\n",
    "from transformers import Trainer, TrainingArguments, BertTokenizer, BertForSequenceClassification\n",
    "from datasets import load_dataset\n",
    "import yaml\n",
    "import pandas as pd\n",
    "from datasets import Dataset"
   ]
  },
  {
   "cell_type": "code",
   "execution_count": null,
   "metadata": {},
   "outputs": [],
   "source": [
    "# Load configuration\n",
    "config = {\n",
    "    'model': {'name': 'bert-base-uncased', 'num_labels': 2},\n",
    "    'training': {'batch_size': 16, 'learning_rate': 2e-5, 'num_epochs': 3, 'weight_decay': 0.01, 'warmup_steps': 500},\n",
    "    'data': {'train_path': 'train.csv', 'val_path': 'val.csv', 'test_path': 'test.csv'},\n",
    "    'output': {'model_save_path': './fine_tuned_model', 'logs_path': './logs'}\n",
    "}\n",
    "\n",
    "# Load model and tokenizer\n",
    "model_name = config['model']['name']\n",
    "tokenizer = BertTokenizer.from_pretrained(model_name)\n",
    "model = BertForSequenceClassification.from_pretrained(model_name, num_labels=config['model']['num_labels'])"
   ]
  },
  {
   "cell_type": "code",
   "execution_count": null,
   "metadata": {},
   "outputs": [],
   "source": [
    "# Load and preprocess data\n",
    "def preprocess_data(df, tokenizer, max_length=512):\n",
    "    def tokenize_function(examples):\n",
    "        return tokenizer(examples['text'], truncation=True, padding='max_length', max_length=max_length)\n",
    "    \n",
    "    dataset = Dataset.from_pandas(df)\n",
    "    tokenized_dataset = dataset.map(tokenize_function, batched=True)\n",
    "    return tokenized_dataset\n",
    "\n",
    "# Assuming you have uploaded train.csv, val.csv, test.csv\n",
    "train_df = pd.read_csv('train.csv')\n",
    "val_df = pd.read_csv('val.csv')\n",
    "test_df = pd.read_csv('test.csv')\n",
    "\n",
    "train_dataset = preprocess_data(train_df, tokenizer)\n",
    "val_dataset = preprocess_data(val_df, tokenizer)\n",
    "test_dataset = preprocess_data(test_df, tokenizer)"
   ]
  },
  {
   "cell_type": "code",
   "execution_count": null,
   "metadata": {},
   "outputs": [],
   "source": [
    "# Training arguments\n",
    "training_args = TrainingArguments(\n",
    "    output_dir=config['output']['model_save_path'],\n",
    "    num_train_epochs=config['training']['num_epochs'],\n",
    "    per_device_train_batch_size=config['training']['batch_size'],\n",
    "    per_device_eval_batch_size=config['training']['batch_size'],\n",
    "    learning_rate=config['training']['learning_rate'],\n",
    "    weight_decay=config['training']['weight_decay'],\n",
    "    warmup_steps=config['training']['warmup_steps'],\n",
    "    logging_dir=config['output']['logs_path'],\n",
    "    logging_steps=10,\n",
    "    evaluation_strategy=\"epoch\",\n",
    "    save_strategy=\"epoch\",\n",
    "    load_best_model_at_end=True,\n",
    ")\n",
    "\n",
    "# Trainer\n",
    "trainer = Trainer(\n",
    "    model=model,\n",
    "    args=training_args,\n",
    "    train_dataset=train_dataset,\n",
    "    eval_dataset=val_dataset,\n",
    ")\n",
    "\n",
    "# Train\n",
    "trainer.train()\n",
    "\n",
    "# Save model\n",
    "trainer.save_model(config['output']['model_save_path'])\n",
    "tokenizer.save_pretrained(config['output']['model_save_path'])"
   ]
  },
  {
   "cell_type": "markdown",
   "metadata": {},
   "source": [
    "## Evaluation\n",
    "\n",
    "Evaluate on test set."
   ]
  },
  {
   "cell_type": "code",
   "execution_count": null,
   "metadata": {},
   "outputs": [],
   "source": [
    "# Evaluate\n",
    "test_results = trainer.evaluate(test_dataset)\n",
    "print(test_results)"
   ]
  }
 ],
 "metadata": {
  "kernelspec": {
   "display_name": "Python 3",
   "language": "python",
   "name": "python3"
  },
  "language_info": {
   "codemirror_mode": {
    "name": "ipython",
    "version": 3
   },
   "file_extension": ".py",
   "mimetype": "text/x-python",
   "name": "python",
   "nbconvert_exporter": "python",
   "pygments_lexer": "ipython3",
   "version": "3.8.5"
  }
 },
 "nbformat": 4,
 "nbformat_minor": 4
}